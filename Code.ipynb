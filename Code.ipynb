{
 "cells": [
  {
   "cell_type": "code",
   "execution_count": 7,
   "id": "4337e8d6",
   "metadata": {},
   "outputs": [],
   "source": [
    "from sklearn.datasets import make_classification\n",
    "from sklearn.tree import DecisionTreeClassifier as DTC\n",
    "from sklearn.model_selection import train_test_split\n",
    "import numpy as np\n",
    "import matplotlib.pyplot as plt\n",
    "from matplotlib.colors import ListedColormap\n",
    "import pandas as pd\n",
    "from sklearn.metrics import confusion_matrix, accuracy_score, classification_report, plot_confusion_matrix\n",
    "from sklearn import tree\n",
    "import graphviz"
   ]
  },
  {
   "cell_type": "markdown",
   "id": "bbcaed22",
   "metadata": {},
   "source": [
    "# functions"
   ]
  },
  {
   "cell_type": "code",
   "execution_count": 8,
   "id": "749c5a8c",
   "metadata": {},
   "outputs": [],
   "source": [
    "# define decision tree model using GINI criterion\n",
    "def model_decisiontree_gini(x_train, y_train, x_test):\n",
    "    model = DTC(criterion = 'gini', random_state = 0)\n",
    "    model.fit(x_train, y_train)\n",
    "    importance = model.feature_importances_\n",
    "    y_pred = model.predict(x_test)\n",
    "    return y_pred, model, importance"
   ]
  },
  {
   "cell_type": "code",
   "execution_count": 9,
   "id": "9fd72e65",
   "metadata": {},
   "outputs": [],
   "source": [
    "# define decision tree model using entropy criterion\n",
    "def model_decisiontree_entropy(x_train, y_train, x_test):\n",
    "    model = DTC(criterion = 'entropy', random_state = 0)\n",
    "    model.fit(x_train, y_train)\n",
    "    importance = model.feature_importances_ \n",
    "    y_pred = model.predict(x_test)\n",
    "    return y_pred, model, importance"
   ]
  },
  {
   "cell_type": "code",
   "execution_count": 10,
   "id": "9a657c69",
   "metadata": {},
   "outputs": [],
   "source": [
    "def plotDataset(X, y):\n",
    "    for label in np.unique(y):\n",
    "        plt.scatter(X[y == label, 0], X[y == label, 1], label=label)\n",
    "    plt.legend()\n",
    "    plt.show()"
   ]
  },
  {
   "cell_type": "code",
   "execution_count": 11,
   "id": "ba76ea8d",
   "metadata": {},
   "outputs": [],
   "source": [
    "def plot_importance(importance, title):\n",
    "    # summarize feature importance\n",
    "    for i,v in enumerate(importance):\n",
    "        print('Feature: %0d, Score: %.5f' % (i,v))\n",
    "    # plot feature importance\n",
    "    plt.bar([x for x in range(len(importance))], importance)\n",
    "    plt.title(title)\n",
    "    plt.show()"
   ]
  },
  {
   "cell_type": "markdown",
   "id": "40ee7cd1",
   "metadata": {},
   "source": [
    "# generate dataset"
   ]
  },
  {
   "cell_type": "code",
   "execution_count": 12,
   "id": "2215863a",
   "metadata": {},
   "outputs": [],
   "source": [
    "rs = 0\n",
    "x, y = make_classification(300, random_state = rs)\n",
    "x_train, x_test, y_train, y_test = train_test_split(x, y, test_size = 0.2, random_state = rs)"
   ]
  },
  {
   "cell_type": "code",
   "execution_count": 13,
   "id": "3eb25b99",
   "metadata": {},
   "outputs": [
    {
     "data": {
      "image/png": "[encoded data removed]",
      "text/plain": [
       "<Figure size 432x288 with 1 Axes>"
      ]
     },
     "metadata": {
      "needs_background": "light"
     },
     "output_type": "display_data"
    }
   ],
   "source": [
    "plotDataset(x, y)"
   ]
  },
  {
   "cell_type": "code",
   "execution_count": null,
   "id": "ab7e493d",
   "metadata": {},
   "outputs": [],
   "source": []
  },
  {
   "cell_type": "markdown",
   "id": "aeca9fd7",
   "metadata": {},
   "source": [
    "# fitting decision tree"
   ]
  },
  {
   "cell_type": "code",
   "execution_count": 12,
   "id": "63b4f5be",
   "metadata": {},
   "outputs": [],
   "source": []
  },
  {
   "cell_type": "markdown",
   "id": "6787d0b1",
   "metadata": {},
   "source": [
    "# plotting decision tree"
   ]
  },
  {
   "cell_type": "code",
   "execution_count": null,
   "id": "a0f74b71",
   "metadata": {},
   "outputs": [],
   "source": []
  }
 ],
 "metadata": {
  "kernelspec": {
   "display_name": "Python 3 (ipykernel)",
   "language": "python",
   "name": "python3"
  },
  "language_info": {
   "codemirror_mode": {
    "name": "ipython",
    "version": 3
   },
   "file_extension": ".py",
   "mimetype": "text/x-python",
   "name": "python",
   "nbconvert_exporter": "python",
   "pygments_lexer": "ipython3",
   "version": "3.9.7"
  }
 },
 "nbformat": 4,
 "nbformat_minor": 5
}
